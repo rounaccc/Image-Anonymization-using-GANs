{
 "cells": [
  {
   "cell_type": "code",
   "execution_count": null,
   "metadata": {},
   "outputs": [],
   "source": [
    "import torch\n",
    "from matplotlib import pyplot\n",
    "from matplotlib.patches import Rectangle\n",
    "from mtcnn.mtcnn import MTCNN\n",
    "from PIL import Image, ImageDraw, ImageFont"
   ]
  },
  {
   "cell_type": "code",
   "execution_count": 38,
   "metadata": {},
   "outputs": [],
   "source": [
    "def draw_image_with_boxes(filename, results, model_name):\n",
    "    image = Image.open(filename)\n",
    "    draw = ImageDraw.Draw(image)\n",
    "\n",
    "    font_size = 80\n",
    "    font = ImageFont.truetype(\"arial.ttf\", font_size)\n",
    "\n",
    "    for result in results:\n",
    "        x, y, width, height = result['box']\n",
    "        confidence = result['confidence']\n",
    "        confidence = confidence * 100\n",
    "\n",
    "        draw.rectangle([x, y, x + width, y + height], outline='red', width=2)\n",
    "\n",
    "        text = f\"{confidence:.2f}\"\n",
    "        draw.text((x, y - font_size), text, fill='white', font=font)\n",
    "\n",
    "    image.show(title=f\"Model: {model_name}\")\n"
   ]
  },
  {
   "cell_type": "code",
   "execution_count": 39,
   "metadata": {},
   "outputs": [],
   "source": [
    "def draw_image_with_boxes(filename, results, model_name):\n",
    "    image = Image.open(filename)\n",
    "    draw = ImageDraw.Draw(image)\n",
    "\n",
    "    for result in results:\n",
    "        x, y, width, height = result['box']\n",
    "        confidence = result['confidence']\n",
    "        confidence = confidence * 100\n",
    "\n",
    "        draw.rectangle([x, y, x + width, y + height], outline='red', width=2)\n",
    "\n",
    "        text = f\"{confidence:.2f}\"\n",
    "        draw.text((x, y), text, fill='white')\n",
    "\n",
    "    image.show(title=f\"Model: {model_name}\")"
   ]
  },
  {
   "cell_type": "code",
   "execution_count": 40,
   "metadata": {},
   "outputs": [],
   "source": [
    "def compare_models(filename):\n",
    "    detector = MTCNN()\n",
    "    faces = detector.detect_faces(pixels)\n",
    "    mtcnn_accuracy = sum([face['confidence'] for face in faces]) / len(faces) if faces else 0\n",
    "\n",
    "    model = torch.hub.load('ultralytics/yolov5', 'yolov5s', pretrained=True)\n",
    "    results = model(filename)\n",
    "    person_results = [obj for obj in results.xyxy[0] if model.names[int(obj[5])] == 'person']\n",
    "    yolov5_accuracy = sum([obj[4].item() * 100 for obj in person_results]) / len(person_results) if person_results else 0\n",
    "\n",
    "    mtcnn_accuracy =  mtcnn_accuracy * 100\n",
    "\n",
    "    if mtcnn_accuracy > yolov5_accuracy:\n",
    "        print(f\"MTCNN has higher accuracy ({mtcnn_accuracy:.2f}%) for face detection compared to YOLOv5 which has ({yolov5_accuracy:.2f}%)\")\n",
    "        draw_image_with_boxes(filename, faces, 'MTCNN')\n",
    "    else:\n",
    "        print(f\"YOLOv5 has higher accuracy ({yolov5_accuracy:.2f}%) for person detection compared to MTCNN which has ({mtcnn_accuracy:.2f}%)\")\n",
    "        results.show()\n",
    "\n",
    "    return mtcnn_accuracy, yolov5_accuracy"
   ]
  },
  {
   "cell_type": "code",
   "execution_count": 41,
   "metadata": {},
   "outputs": [
    {
     "name": "stdout",
     "output_type": "stream",
     "text": [
      "1/1 [==============================] - 0s 167ms/step\n",
      "1/1 [==============================] - 0s 94ms/step\n",
      "1/1 [==============================] - 0s 44ms/step\n",
      "1/1 [==============================] - 0s 22ms/step\n",
      "1/1 [==============================] - 0s 17ms/step\n",
      "1/1 [==============================] - 0s 14ms/step\n",
      "1/1 [==============================] - 0s 12ms/step\n",
      "1/1 [==============================] - 0s 11ms/step\n",
      "1/1 [==============================] - 0s 11ms/step\n",
      "1/1 [==============================] - 0s 12ms/step\n",
      "1/1 [==============================] - 0s 9ms/step\n",
      "1/1 [==============================] - 0s 10ms/step\n",
      "1/1 [==============================] - 0s 9ms/step\n",
      "33/33 [==============================] - 0s 2ms/step\n",
      "3/3 [==============================] - 0s 7ms/step\n"
     ]
    },
    {
     "name": "stderr",
     "output_type": "stream",
     "text": [
      "Using cache found in /Users/visheshgiyanani/.cache/torch/hub/ultralytics_yolov5_master\n",
      "YOLOv5 🚀 2024-3-18 Python-3.10.5 torch-1.13.1 CPU\n",
      "\n",
      "Fusing layers... \n",
      "YOLOv5s summary: 213 layers, 7225885 parameters, 0 gradients\n",
      "Adding AutoShape... \n"
     ]
    },
    {
     "name": "stdout",
     "output_type": "stream",
     "text": [
      "MTCNN has higher accuracy (93.09%) for face detection compared to YOLOv5 which has (73.84%)\n"
     ]
    }
   ],
   "source": [
    "filename = 'godfather.webp'\n",
    "pixels = pyplot.imread(filename)\n",
    "mtcnn_accuracy, yolov5_accuracy = compare_models(filename)"
   ]
  }
 ],
 "metadata": {
  "kernelspec": {
   "display_name": "Python 3",
   "language": "python",
   "name": "python3"
  },
  "language_info": {
   "codemirror_mode": {
    "name": "ipython",
    "version": 3
   },
   "file_extension": ".py",
   "mimetype": "text/x-python",
   "name": "python",
   "nbconvert_exporter": "python",
   "pygments_lexer": "ipython3",
   "version": "3.10.5"
  }
 },
 "nbformat": 4,
 "nbformat_minor": 2
}
